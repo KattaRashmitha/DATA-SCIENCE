{
 "cells": [
  {
   "cell_type": "code",
   "execution_count": null,
   "id": "56d41d82-ac40-45ed-a4f6-55c1719c1a3f",
   "metadata": {},
   "outputs": [],
   "source": [
    "import pandas as pd\n",
    "import matplotlib.pyplot as plt\n",
    "\n",
    "# Load dataset\n",
    "heart = pd.read_csv('heart.csv')\n",
    "\n",
    "# 1. Count missing values\n",
    "missing = heart.isnull().sum()\n",
    "print(\"Missing values per column:\\n\", missing)\n",
    "\n",
    "# 2. Top 3 correlations\n",
    "correlations = heart.corr().abs().unstack().sort_values(ascending=False)\n",
    "corr_top3 = correlations[(correlations < 1)].drop_duplicates().head(3)\n",
    "print(\"Top 3 correlations:\\n\", corr_top3)\n",
    "\n",
    "# 3. Plot a histogram for 'age'\n",
    "plt.hist(heart['age'], bins=15, color='blue', edgecolor='black')\n",
    "plt.title('Histogram of Age')\n",
    "plt.xlabel('Age')\n",
    "plt.ylabel('Frequency')\n",
    "plt.show()\n"
   ]
  }
 ],
 "metadata": {
  "kernelspec": {
   "display_name": "Python 3 (ipykernel)",
   "language": "python",
   "name": "python3"
  },
  "language_info": {
   "codemirror_mode": {
    "name": "ipython",
    "version": 3
   },
   "file_extension": ".py",
   "mimetype": "text/x-python",
   "name": "python",
   "nbconvert_exporter": "python",
   "pygments_lexer": "ipython3",
   "version": "3.12.7"
  }
 },
 "nbformat": 4,
 "nbformat_minor": 5
}
